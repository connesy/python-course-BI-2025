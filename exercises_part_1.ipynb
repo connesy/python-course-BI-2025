{
 "cells": [
  {
   "cell_type": "markdown",
   "metadata": {
    "vscode": {
     "languageId": "plaintext"
    }
   },
   "source": [
    "# Exercises"
   ]
  },
  {
   "cell_type": "markdown",
   "metadata": {},
   "source": [
    "## 0: Setup"
   ]
  },
  {
   "cell_type": "markdown",
   "metadata": {},
   "source": [
    "**Requirements**\n",
    "\n",
    "With your virtual environment activated, run the command:\n",
    "\n",
    "```console\n",
    "python -m pip install jupyter ipykernel\n",
    "```"
   ]
  },
  {
   "cell_type": "markdown",
   "metadata": {},
   "source": [
    "**VSCode**\n",
    "\n",
    "In VSCode, open the `Extensions` view (`Ctrl+Shift+X`). \n",
    "\n",
    "Search for `ms-python.python` to find and install the official `Python` extension, then search for `ms-toolsai.jupyter` to find and install the official `Jupyter` extensions. Both are from Microsoft.\n",
    "\n",
    "If you have GitHub Copilot installed, please disable it for these exercises (search for `GitHub Copilot` in the extensions view, then right click and click `Disable`)."
   ]
  },
  {
   "cell_type": "markdown",
   "metadata": {},
   "source": [
    "**Navigating the notebook**\n",
    "\n",
    "* Use the arrow keys to move between cells.\n",
    "* Press `Enter` to edit a cell.\n",
    "* Press `Ctrl + Enter` to run a cell.\n",
    "* Press `Shift + Enter` to run a cell and move to the next one.\n",
    "* Press `Esc` to exit a cell and go back to navigation mode.\n",
    "\n",
    "As an example, run the following cell (we will need it for the exercises). It should show a small checkmark in the bottom left corner."
   ]
  },
  {
   "cell_type": "code",
   "execution_count": null,
   "metadata": {},
   "outputs": [],
   "source": [
    "def check_result(result, expected):\n",
    "    if result == expected:\n",
    "        print(\"\\u2705 Passed\")\n",
    "    else:\n",
    "        print(\"\\u274c\", f\"Expected {expected!r}, Got {result!r}\")"
   ]
  },
  {
   "cell_type": "markdown",
   "metadata": {},
   "source": [
    "## 1. Basic types - operations"
   ]
  },
  {
   "cell_type": "markdown",
   "metadata": {},
   "source": [
    "### Exercise 1: Querying a list of names\n",
    "\n",
    "You are writing an SQL query to find records that match a list of names from a database:\n",
    "\n",
    "```sql\n",
    "SELECT * FROM users\n",
    "WHERE users.name IN ...\n",
    "```\n",
    "\n",
    "You have the list of names, but need to convert it into a string that can be used in the SQL query:\n",
    "\n",
    "```python\n",
    "query = \"SELECT * FROM users WHERE users.name IN (\" + names_string + \")\"\n",
    "```\n",
    "\n",
    "... that is, the final string should look like this:\n",
    "```python\n",
    "\"'name1', 'name2', 'name3'\"\n",
    "```\n",
    "with each name quoted in single quotes and separated by commas."
   ]
  },
  {
   "cell_type": "code",
   "execution_count": null,
   "metadata": {},
   "outputs": [],
   "source": [
    "names = [\"Alice\", \"Bob\", \"Charlie\"]\n",
    "\n",
    "# Write your code here. Feel free to create intermediate variables if needed,\n",
    "# just make sure the final result is stored in the `names_string` variable.\n",
    "names_string = \"...\"\n",
    "\n",
    "# Check expected output\n",
    "check_result(names_string, \"'Alice', 'Bob', 'Charlie'\")"
   ]
  },
  {
   "cell_type": "code",
   "execution_count": null,
   "metadata": {},
   "outputs": [],
   "source": [
    "# Print the full SQL query\n",
    "print(\"SELECT * FROM users\\nWHERE users.name IN (\" + names_string + \")\")"
   ]
  },
  {
   "cell_type": "markdown",
   "metadata": {},
   "source": [
    "### Exercise 2: f-strings"
   ]
  },
  {
   "cell_type": "markdown",
   "metadata": {},
   "source": [
    "Write the same `names_string`, this time using \"f-strings\" instead of concatenation."
   ]
  },
  {
   "cell_type": "code",
   "execution_count": null,
   "metadata": {},
   "outputs": [],
   "source": [
    "names = [\"Alice\", \"Bob\", \"Charlie\"]\n",
    "\n",
    "# Write your code here. Feel free to create intermediate variables if needed,\n",
    "# just make sure the final result is stored in the `names_string` variable.\n",
    "names_string = \"...\"\n",
    "\n",
    "\n",
    "# Check expected output\n",
    "check_result(result=names_string, expected=\"'Alice', 'Bob', 'Charlie'\")"
   ]
  },
  {
   "cell_type": "markdown",
   "metadata": {},
   "source": [
    "### Exercise 3: Building an XOR gate"
   ]
  },
  {
   "cell_type": "markdown",
   "metadata": {},
   "source": [
    "An XOR gate is a digital logic gate that takes two boolean inputs and outputs `True` if one, and only one, of the inputs is `True`.\n",
    "If both inputs are either `True` or `False`, the output is `False`.\n",
    "\n",
    "The truth table for an XOR gate is as follows:\n",
    "|   A   |   B   |   A XOR B   |\n",
    "|-------|-------|-------------|\n",
    "| False | False |    False    |\n",
    "| False | True  |    True     |\n",
    "| True  | False |    True     |\n",
    "| True  | True  |    False    |\n",
    "\n",
    "*Using only the operators `and`, `or` and `not`*, write a function `xor(a, b)` that implements the XOR operation."
   ]
  },
  {
   "cell_type": "code",
   "execution_count": null,
   "metadata": {},
   "outputs": [],
   "source": [
    "def xor(a, b):\n",
    "    \"\"\"This function takes two boolean values and returns the XOR of them.\"\"\"\n",
    "    result = ...  # Write your code here\n",
    "    return result\n",
    "\n",
    "\n",
    "# Check the implementation with some test cases\n",
    "check_result(result=xor(True, True), expected=False)\n",
    "check_result(result=xor(True, False), expected=True)\n",
    "check_result(result=xor(False, True), expected=True)\n",
    "check_result(result=xor(False, False), expected=False)"
   ]
  },
  {
   "cell_type": "markdown",
   "metadata": {},
   "source": [
    "### Exercise 4: List indexing"
   ]
  },
  {
   "cell_type": "markdown",
   "metadata": {},
   "source": [
    "Using list slicing, select the first 5 numbers from the list:"
   ]
  },
  {
   "cell_type": "code",
   "execution_count": null,
   "metadata": {},
   "outputs": [],
   "source": [
    "numbers = [1, 2, 3, 4, 5, 6, 7, 8, 9, 10]\n",
    "\n",
    "# Select the first 5 numbers from the list\n",
    "first_five = ...\n",
    "\n",
    "\n",
    "# Check expected output\n",
    "check_result(result=first_five, expected=[1, 2, 3, 4, 5])"
   ]
  },
  {
   "cell_type": "markdown",
   "metadata": {},
   "source": [
    ".. and the last 5 numbers from the list:"
   ]
  },
  {
   "cell_type": "code",
   "execution_count": null,
   "metadata": {},
   "outputs": [],
   "source": [
    "numbers = [1, 2, 3, 4, 5, 6, 7, 8, 9, 10]\n",
    "\n",
    "# Select the last 5 numbers from the list\n",
    "last_five = numbers[5:]\n",
    "\n",
    "\n",
    "# Check expected output\n",
    "check_result(result=last_five, expected=[6, 7, 8, 9, 10])"
   ]
  },
  {
   "cell_type": "markdown",
   "metadata": {},
   "source": [
    "Select the numbers `3`, `4`, `5` and `6` from the list:"
   ]
  },
  {
   "cell_type": "code",
   "execution_count": null,
   "metadata": {},
   "outputs": [],
   "source": [
    "numbers = [1, 2, 3, 4, 5, 6, 7, 8, 9, 10]\n",
    "\n",
    "# Select the numbers 3, 4, 5 and 6 from the list\n",
    "middle_numbers = ...\n",
    "\n",
    "\n",
    "# Check expected output\n",
    "check_result(result=middle_numbers, expected=[3, 4, 5, 6])"
   ]
  },
  {
   "cell_type": "markdown",
   "metadata": {},
   "source": [
    "Select all the odd numbers from the list `numbers` below:"
   ]
  },
  {
   "cell_type": "code",
   "execution_count": null,
   "metadata": {},
   "outputs": [],
   "source": [
    "numbers = [1, 2, 3, 4, 5, 6, 7, 8, 9, 10]\n",
    "\n",
    "# Select the odd numbers from the list and store them in the `odd_numbers` variable\n",
    "odd_numbers = ...\n",
    "\n",
    "\n",
    "# Check expected output\n",
    "check_result(result=odd_numbers, expected=[1, 3, 5, 7, 9])"
   ]
  },
  {
   "cell_type": "markdown",
   "metadata": {},
   "source": [
    ".. and now the even numbers:"
   ]
  },
  {
   "cell_type": "code",
   "execution_count": null,
   "metadata": {},
   "outputs": [],
   "source": [
    "numbers = [1, 2, 3, 4, 5, 6, 7, 8, 9, 10]\n",
    "\n",
    "# Select the even numbers from the list and store them in the `even_numbers` variable\n",
    "even_numbers = ...\n",
    "\n",
    "\n",
    "# Check expected output\n",
    "check_result(result=even_numbers, expected=[2, 4, 6, 8, 10])"
   ]
  },
  {
   "cell_type": "markdown",
   "metadata": {},
   "source": [
    "Now, select the numbers `2`, `5` and `8` _in reverse order_ from the list:"
   ]
  },
  {
   "cell_type": "code",
   "execution_count": null,
   "metadata": {},
   "outputs": [],
   "source": [
    "numbers = [1, 2, 3, 4, 5, 6, 7, 8, 9, 10]\n",
    "\n",
    "# Select the numbers 2, 5 and 8 in reverse order\n",
    "reverse_numbers = ...\n",
    "\n",
    "\n",
    "# Check expected output\n",
    "check_result(result=reverse_numbers, expected=[8, 5, 2])"
   ]
  },
  {
   "cell_type": "markdown",
   "metadata": {},
   "source": [
    "## 3. Control flow"
   ]
  },
  {
   "cell_type": "markdown",
   "metadata": {},
   "source": [
    "### Exercise 5: Positive, negative or zero?"
   ]
  },
  {
   "cell_type": "markdown",
   "metadata": {
    "vscode": {
     "languageId": "markdown"
    }
   },
   "source": [
    "### Exercise 5: Positive, negative or zero?\n",
    "\n",
    "Using `if-elif-else` statements, write some code that takes the input `number` and prints whether it is positive, negative or zero."
   ]
  },
  {
   "cell_type": "code",
   "execution_count": null,
   "metadata": {},
   "outputs": [],
   "source": [
    "number = int(input(\"Type a number: \"))\n",
    "\n",
    "# Print whether the number is positive, negative or zero\n",
    "# Write your code here\n",
    "if ...:\n",
    "    print(...)\n",
    "..."
   ]
  },
  {
   "cell_type": "markdown",
   "metadata": {},
   "source": [
    "### Exercise 6: FizzBuzz"
   ]
  },
  {
   "cell_type": "markdown",
   "metadata": {},
   "source": [
    "Write a function `fizzbuzz(number)` that takes an integer `number` and returns:\n",
    "- `\"Fizz\"` if the number is divisible by 3,\n",
    "- `\"Buzz\"` if the number is divisible by 5,\n",
    "- `\"FizzBuzz\"` if the number is divisible by both 3 and 5,\n",
    "- the number itself if it is not divisible by either 3 or 5.\n",
    "\n",
    "For example:\n",
    "- `fizzbuzz(3)` should return `\"Fizz\"`\n",
    "- `fizzbuzz(5)` should return `\"Buzz\"`\n",
    "- `fizzbuzz(15)` should return `\"FizzBuzz\"`\n",
    "- `fizzbuzz(7)` should return `7`"
   ]
  },
  {
   "cell_type": "markdown",
   "metadata": {},
   "source": [
    "As a hint, you can use the modulo operator `%` to check if a number is divisible by another number, since it returns the remainder after division:"
   ]
  },
  {
   "cell_type": "code",
   "execution_count": null,
   "metadata": {},
   "outputs": [
    {
     "name": "stdout",
     "output_type": "stream",
     "text": [
      "10 % 3 = 1\n",
      "10 % 4 = 2\n",
      "10 % 5 = 0\n",
      "Since 10 % 5 == 0, 10 is divisible by 5\n"
     ]
    }
   ],
   "source": [
    "print(\"10 % 3 =\", 10 % 3)\n",
    "print(\"10 % 4 =\", 10 % 4)\n",
    "print(\"10 % 5 =\", 10 % 5)\n",
    "print(\"Since 10 % 5 == 0, 10 is divisible by 5\")"
   ]
  },
  {
   "cell_type": "code",
   "execution_count": null,
   "metadata": {},
   "outputs": [],
   "source": [
    "def fizzbuzz(number):\n",
    "    \"\"\"This function takes an integer and returns either \"Fizz\", \"Buzz\", \"FizzBuzz\" or the number itself.\n",
    "\n",
    "    If the number is divisible by 3, return \"Fizz\".\n",
    "    If the number is divisible by 5, return \"Buzz\".\n",
    "    If the number is divisible by both 3 and 5, return \"FizzBuzz\".\n",
    "    Otherwise, return the number itself.\n",
    "    \"\"\"\n",
    "\n",
    "    # Write your code here\n",
    "    if ...:\n",
    "        result = ...\n",
    "    ...\n",
    "\n",
    "    return result\n",
    "\n",
    "\n",
    "# Check the implementation with some test cases\n",
    "check_result(result=fizzbuzz(1), expected=1)\n",
    "check_result(result=fizzbuzz(2), expected=2)\n",
    "check_result(result=fizzbuzz(3), expected=\"Fizz\")\n",
    "check_result(result=fizzbuzz(4), expected=4)\n",
    "check_result(result=fizzbuzz(5), expected=\"Buzz\")\n",
    "check_result(result=fizzbuzz(6), expected=\"Fizz\")\n",
    "check_result(result=fizzbuzz(7), expected=7)\n",
    "check_result(result=fizzbuzz(15), expected=\"FizzBuzz\")\n",
    "check_result(result=fizzbuzz(4725), expected=\"FizzBuzz\")"
   ]
  },
  {
   "cell_type": "markdown",
   "metadata": {},
   "source": [
    "### Exercise 7: Printing characters in a string"
   ]
  },
  {
   "cell_type": "markdown",
   "metadata": {},
   "source": [
    "Create a string with your name, then using a `for`-loop, print each character in the string."
   ]
  },
  {
   "cell_type": "code",
   "execution_count": null,
   "metadata": {},
   "outputs": [],
   "source": [
    "name = ...  # Write your code here\n",
    "\n",
    "for ...:"
   ]
  },
  {
   "cell_type": "markdown",
   "metadata": {},
   "source": [
    "### Exercise 8: Finding active members"
   ]
  },
  {
   "cell_type": "markdown",
   "metadata": {},
   "source": [
    "Given a list of members with their name and membership status (`active` or `inactive`), loop over the list of members and add their names to the empty list `active_member_names` if they are `active`."
   ]
  },
  {
   "cell_type": "code",
   "execution_count": null,
   "metadata": {},
   "outputs": [],
   "source": [
    "members = [\n",
    "    {\"name\": \"Alice\", \"status\": \"active\"},\n",
    "    {\"name\": \"Bob\", \"status\": \"inactive\"},\n",
    "    {\"name\": \"Charlie\", \"status\": \"active\"},\n",
    "    {\"name\": \"David\", \"status\": \"inactive\"},\n",
    "    {\"name\": \"Eve\", \"status\": \"active\"},\n",
    "    {\"name\": \"Frank\", \"status\": \"inactive\"},\n",
    "    {\"name\": \"Grace\", \"status\": \"active\"},\n",
    "    {\"name\": \"Hank\", \"status\": \"inactive\"},\n",
    "    {\"name\": \"Ivy\", \"status\": \"active\"},\n",
    "    {\"name\": \"Jack\", \"status\": \"inactive\"},\n",
    "]\n",
    "\n",
    "active_member_names = []\n",
    "for ...:  # Write your code here\n",
    "\n",
    "\n",
    "# Check expected output\n",
    "check_result(result=active_member_names, expected=[\"Alice\", \"Charlie\", \"Eve\", \"Grace\", \"Ivy\"])"
   ]
  },
  {
   "cell_type": "markdown",
   "metadata": {},
   "source": [
    "### Exercise 9: Multiplication table"
   ]
  },
  {
   "cell_type": "markdown",
   "metadata": {},
   "source": [
    "Create a multiplication table for the numbers 1 to 10, using nested loops.\n",
    "\n",
    "The table should look (somewhat) like this:\n",
    "\n",
    "```python\n",
    " 1  2  3  4  5  6  7  8  9  10\n",
    " 2  4  6  8 10 12 14 16 18  20\n",
    "...\n",
    "10 20 30 40 50 60 70 80 90 100\n",
    "```\n",
    "\n",
    "It's up to you whether you want to collect the table in a string, a list of strings, a list of lists, or print it directly."
   ]
  },
  {
   "cell_type": "code",
   "execution_count": null,
   "metadata": {},
   "outputs": [],
   "source": [
    "# Write your code here\n",
    "..."
   ]
  },
  {
   "cell_type": "markdown",
   "metadata": {},
   "source": [
    "## 4. Functions"
   ]
  },
  {
   "cell_type": "markdown",
   "metadata": {},
   "source": [
    "### Exercise 10: Add two numbers"
   ]
  },
  {
   "cell_type": "markdown",
   "metadata": {},
   "source": [
    "Write a function `add` that takes two numbers as input and returns their sum."
   ]
  },
  {
   "cell_type": "code",
   "execution_count": null,
   "metadata": {},
   "outputs": [],
   "source": [
    "# Write your code here\n",
    "...\n",
    "\n",
    "\n",
    "check_result(result=add(1, 2), expected=3)\n",
    "check_result(result=add(3, 4), expected=7)"
   ]
  },
  {
   "cell_type": "markdown",
   "metadata": {},
   "source": [
    "### Exercise 11: Add two numbers, with default values"
   ]
  },
  {
   "cell_type": "markdown",
   "metadata": {},
   "source": [
    "Write a function `add_with_default` that takes two numbers `a` and `b` as input and returns their sum. Both numbers should have a default value of `0`."
   ]
  },
  {
   "cell_type": "code",
   "execution_count": null,
   "metadata": {},
   "outputs": [],
   "source": [
    "# Write your code here\n",
    "...\n",
    "\n",
    "\n",
    "check_result(result=add_with_default(1, 2), expected=3)\n",
    "check_result(result=add_with_default(a=1, b=2), expected=3)\n",
    "check_result(result=add_with_default(a=10), expected=10)\n",
    "check_result(result=add_with_default(b=20), expected=20)\n",
    "check_result(result=add_with_default(), expected=0)"
   ]
  },
  {
   "cell_type": "markdown",
   "metadata": {
    "vscode": {
     "languageId": "markdown"
    }
   },
   "source": [
    "### Exercise 12: Keyword arguments and default values\n",
    "\n",
    "Write a function `describe_person` that takes the following keyword arguments:\n",
    "- `name` (required)\n",
    "- `age` (default value: `0`)\n",
    "- `city` (default value: `\"Unknown\"`)\n",
    "\n",
    "If the `city` is `\"Unknown\"`, the function should return a string in the format:\n",
    "```\n",
    "{name} is {age} years old.\n",
    "```\n",
    "\n",
    "If the `city` is not `\"Unknown\"`, the function should return a string in the format:\n",
    "```\n",
    "{name} is {age} years old and lives in {city}.\n",
    "```"
   ]
  },
  {
   "cell_type": "code",
   "execution_count": null,
   "metadata": {},
   "outputs": [],
   "source": [
    "# Write your code here\n",
    "...\n",
    "\n",
    "\n",
    "check_result(\n",
    "    result=describe_person(\"Alice\", 25),\n",
    "    expected=\"Alice is 25 years old.\",\n",
    ")\n",
    "check_result(\n",
    "    result=describe_person(\"Bob\", 15, \"Copenhagen\"),\n",
    "    expected=\"Bob is 15 years old and lives in Copenhagen.\",\n",
    ")\n",
    "check_result(\n",
    "    result=describe_person(\"Charlie\", city=\"Amsterdam\"),\n",
    "    expected=\"Charlie is 0 years old and lives in Amsterdam.\",\n",
    ")\n",
    "check_result(\n",
    "    result=describe_person(city=\"New York\", name=\"David\", age=54),\n",
    "    expected=\"David is 54 years old and lives in New York.\",\n",
    ")\n",
    "check_result(\n",
    "    result=describe_person(\"Erik\"),\n",
    "    expected=\"Erik is 0 years old.\",\n",
    ")"
   ]
  },
  {
   "cell_type": "markdown",
   "metadata": {},
   "source": [
    "### Exercise 13: Greetings all!"
   ]
  },
  {
   "cell_type": "markdown",
   "metadata": {},
   "source": [
    "Create a function that takes an *arbitrary* number of names as strings, and prints a greeting for each name when called."
   ]
  },
  {
   "cell_type": "code",
   "execution_count": null,
   "metadata": {},
   "outputs": [],
   "source": [
    "# Write your code here\n",
    "..."
   ]
  },
  {
   "cell_type": "markdown",
   "metadata": {},
   "source": [
    "### Exercise 14: Arbitrary Keyword arguments"
   ]
  },
  {
   "cell_type": "markdown",
   "metadata": {},
   "source": [
    "Create a function called `convert_to_uppercase` that takes an arbitrary number of *keyword arguments*. \n",
    "\n",
    "The function should return a dictionary, where the keys are the parameter names, and the values are the corresponding values, but in all uppercase.\n",
    "\n",
    "Example:\n",
    "```python\n",
    "convert_to_uppercase(name=\"Alice\", city=\"Wonderland\")  # {'name': 'ALICE', 'city': 'WONDERLAND'}\n",
    "```\n",
    "\n",
    "Hint: You can call `str.upper()` on a string to convert it to uppercase."
   ]
  },
  {
   "cell_type": "code",
   "execution_count": null,
   "metadata": {},
   "outputs": [],
   "source": [
    "# Write your code here\n",
    "...\n",
    "\n",
    "\n",
    "check_result(\n",
    "    result=convert_to_uppercase(name=\"Alice\", city=\"Wonderland\"), expected={\"name\": \"ALICE\", \"city\": \"WONDERLAND\"}\n",
    ")\n",
    "check_result(\n",
    "    result=convert_to_uppercase(shop=\"netto\", city=\"copenhagen\"), expected={\"shop\": \"NETTO\", \"city\": \"COPENHAGEN\"}\n",
    ")"
   ]
  },
  {
   "cell_type": "markdown",
   "metadata": {},
   "source": [
    "### Exercise 15: Unpacking arguments"
   ]
  },
  {
   "cell_type": "markdown",
   "metadata": {},
   "source": [
    "Drawing inspiration from the previous exercise, create a function `add_prefix_suffix` that takes an arbitrary number of arguments and returns a dictionary with the parameter names as keys and the parameter values as values.\n",
    "\n",
    "However, the function should also accept two additional parameters `prefix` and `suffix`.\n",
    "\n",
    "Instead of returning the values as uppercase, this function should return a dictionary with the values prefixed by `prefix` and suffixed by `suffix`.\n",
    "\n",
    "Example:\n",
    "```python\n",
    "convert_to_uppercase(name1='Alice', name2='Bob', prefix='Hello, ', suffix='!')\n",
    "# {'name1': 'Hello, Alice!', 'name2': 'Hello, Bob!'}\n",
    "```"
   ]
  },
  {
   "cell_type": "code",
   "execution_count": null,
   "metadata": {},
   "outputs": [],
   "source": [
    "# Write your code here\n",
    "...\n",
    "\n",
    "\n",
    "check_result(\n",
    "    result=add_prefix_suffix(name1=\"Alice\", name2=\"Bob\", prefix=\"Hello, \", suffix=\"!\"),\n",
    "    expected={\"name1\": \"Hello, Alice!\", \"name2\": \"Hello, Bob!\"},\n",
    ")\n",
    "check_result(\n",
    "    result=add_prefix_suffix(prefix=\"Hi, \", suffix=\" :-)\", charlie=\"Charlie\", david=\"David\"),\n",
    "    expected={\"charlie\": \"Hi, Charlie :-)\", \"david\": \"Hi, David :-)\"},\n",
    ")\n",
    "check_result(\n",
    "    result=add_prefix_suffix(prefix=\"users.\", column1=\"name\", column2=\"age\", column3=\"city\", suffix=\"\"),\n",
    "    expected={\"column1\": \"users.name\", \"column2\": \"users.age\", \"column3\": \"users.city\"},\n",
    ")"
   ]
  },
  {
   "cell_type": "markdown",
   "metadata": {},
   "source": [
    "## 6. Exceptions"
   ]
  },
  {
   "cell_type": "markdown",
   "metadata": {
    "vscode": {
     "languageId": "markdown"
    }
   },
   "source": [
    "### Exercise 16: Converting a string to an integer"
   ]
  },
  {
   "cell_type": "markdown",
   "metadata": {},
   "source": [
    "Write a function `convert_to_int` that takes a string as input and attempts to convert it to an integer. \n",
    "\n",
    "If the conversion is successful, return the integer. If a `ValueError` occurs (e.g., if the string cannot be converted to an integer), catch the exception and return `None` instead.\n",
    "\n",
    "Example:\n",
    "```python\n",
    "convert_to_int(\"42\")  # 42\n",
    "convert_to_int(\"hello\")  # None\n",
    "```"
   ]
  },
  {
   "cell_type": "code",
   "execution_count": null,
   "metadata": {},
   "outputs": [],
   "source": [
    "# Write your code here\n",
    "...\n",
    "\n",
    "\n",
    "check_result(result=convert_to_int(\"123\"), expected=123)\n",
    "check_result(result=convert_to_int(\"2.0\"), expected=None)\n",
    "check_result(result=convert_to_int(\"Hello\"), expected=None)"
   ]
  }
 ],
 "metadata": {
  "kernelspec": {
   "display_name": ".venv",
   "language": "python",
   "name": "python3"
  },
  "language_info": {
   "codemirror_mode": {
    "name": "ipython",
    "version": 3
   },
   "file_extension": ".py",
   "mimetype": "text/x-python",
   "name": "python",
   "nbconvert_exporter": "python",
   "pygments_lexer": "ipython3",
   "version": "3.13.2"
  }
 },
 "nbformat": 4,
 "nbformat_minor": 2
}
